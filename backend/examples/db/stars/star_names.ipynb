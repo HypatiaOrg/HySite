{
 "cells": [
  {
   "cell_type": "markdown",
   "id": "e37b91eb-b430-4561-9297-3ba9f856bb5b",
   "metadata": {},
   "source": [
    "# [Star Name Database Walkthrough](https://github.com/HypatiaOrg/HySite/wiki/Star-Name-Database-Walkthrough)\n",
    "\n",
    "See our wiki page for database setup and configuration instructions at: https://github.com/HypatiaOrg/HySite/wiki/Star-Name-Database-Walkthrough"
   ]
  },
  {
   "cell_type": "code",
   "execution_count": null,
   "id": "initial_id",
   "metadata": {},
   "outputs": [],
   "source": [
    "import os\n",
    "\n",
    "from hypatia.sources.simbad.ops import star_collection\n",
    "from hypatia.sources.simbad.batch import get_star_data_batch\n",
    "from hypatia.sources.nea.ops import needs_micro_lense_name_change\n",
    "from hypatia.sources.nea.query import query_nea, set_data_by_host, hypatia_host_name_rank_order\n",
    "from hypatia.configs.source_settings import nea_names_the_cause_wrong_simbad_references\n",
    "\n",
    "\n",
    "star_list = [\n",
    "    '2MASSJ04545692-6231205',\n",
    "    '2MASSJ09423526-6228346',\n",
    "    '2MASSJ09442986-4546351',\n",
    "    '2MASSJ15120519-2006307',\n",
    "    'LTT 1445 A',\n",
    "    'L 168-9',\n",
    "    'G162-44',\n",
    "    'HD 6434', \n",
    "    'G50-16',\n",
    "    'GJ1252',\n",
    "    'GJ4102',\n",
    "    'GJ436',\n",
    "    'Gliese486',\n",
    "    'K2-129',\n",
    "    'K2-137',\n",
    "    'K2-239',\n",
    "    'K2-54',\n",
    "    'K2-72',\n",
    "    'L181-1',\n",
    "    'L231-32',\n",
    "    'GJ 1132',\n",
    "    'HD 27859',\n",
    "    'LHS 1678',\n",
    "    'GJ 357',\n",
    "    'L98-59',\n",
    "    'LHS1140',\n",
    "    '* 7 Com',\n",
    "    'LHS3844',\n",
    "    'LP961-53',\n",
    "    'TOI-269',\n",
    "    'Wolf437',\n",
    "    'Furuhjelm I-1002',\n",
    "]"
   ]
  },
  {
   "cell_type": "markdown",
   "id": "dc4a320d-d806-437f-8e5f-f5c965cb7a98",
   "metadata": {},
   "source": [
    "# Batch star names - `get_star_data_batch()`\n",
    "The `get_star_data_batch` class is the primary tool for simultaneously querying multiple stars from SIMBAD. The keyword argument `search_ids` should be a list, and the returned data will be in `star_docs`, a list of the same length. The `search_ids` list can have repeated values; `get_star_data_batch()` is smart enough not to send only one query to SIMBAD for a given string name. "
   ]
  },
  {
   "cell_type": "code",
   "execution_count": null,
   "id": "7b57e35e-2cb5-42ca-a552-09cbf24df866",
   "metadata": {},
   "outputs": [],
   "source": [
    "star_docs = get_star_data_batch(search_ids=star_list, test_origin='star names example notebook')"
   ]
  },
  {
   "cell_type": "markdown",
   "id": "fa081c3c-b0eb-417b-b0f8-6c9e4f4c40f6",
   "metadata": {},
   "source": [
    "The first time this function is called, you will notice some printed output regarding the number of stars being queried from the SIMBAD database's API. However, every subsequent call of this function for the same stars will find the matching names already in our local MongoDB database. The SIMBAD API is only accessed when the data is not available locally. To see this, we can call the same function again."
   ]
  },
  {
   "cell_type": "code",
   "execution_count": null,
   "id": "fbfbd89e-7aa6-4d8e-ba59-44b75f3000ab",
   "metadata": {},
   "outputs": [],
   "source": [
    "star_docs = get_star_data_batch(search_ids=star_list, test_origin='star names example notebook')"
   ]
  },
  {
   "cell_type": "markdown",
   "id": "4d878350-8580-4350-8a94-d1dbe064073b",
   "metadata": {},
   "source": [
    "## The returned data: `star_docs`\n",
    "Let's take a look at the returned data in a single data document of the list `star_docs`."
   ]
  },
  {
   "cell_type": "code",
   "execution_count": null,
   "id": "aaf41615-3570-4589-9cb5-adf14205ce9c",
   "metadata": {},
   "outputs": [],
   "source": [
    "star_doc = star_docs[1]\n",
    "print(f\"star_doc's keys:\\n    {star_doc.keys()}\\n\")\n",
    "simbad_name = star_doc['_id']\n",
    "print(f'The SIMBAD name:\\n    {simbad_name}\\n')\n",
    "all_names = star_doc['aliases']\n",
    "print(f'All known names:\\n    {all_names}\\n')\n",
    "lower_case_space_removed_names_for_matching = star_doc['match_names']\n",
    "print(f'Names formatted to make name-matching simpler by removing spaces and using only lowercase letters:\\n    {lower_case_space_removed_names_for_matching}\\n')\n",
    "print(f'The whole star doc:\\n   {star_doc}\\n')"
   ]
  },
  {
   "cell_type": "markdown",
   "id": "6cc5cfc2-94b9-49cf-a9c8-96eba62e4128",
   "metadata": {},
   "source": [
    "Most of the fields for a star document may not be relevant to your astronomy application or you may want to harvest even more information from SIMBAD's API. The fields were chosen specifically because we use this data in the Hypatia Catalog pipeline. You may notice some star docs have a `params` key, which is used to store spectral types for stars (when available); however, we may expand the usage to include other parameters available on SIMBAD. \n",
    "\n",
    "## Using the star_docs to determine unique star names \n",
    "The most crucial part of `star_docs` is that it provides a **unique** ID for a given star. From a data-science perspective, we now have a way to identify duplicates and cross-match lists of stars using different naming conventions. This is the core of the Hypatia Catalog data association process, which is how we can associate data from hundreds of sources into a single dataset with one entry per star and every star unique.\n",
    "\n",
    "\n",
    "Let's look at the returned `star_docs` and find any duplicates: "
   ]
  },
  {
   "cell_type": "code",
   "execution_count": null,
   "id": "6fb0e072-60fb-4a0c-9032-284d571a482c",
   "metadata": {},
   "outputs": [],
   "source": [
    "unique_ids = {}\n",
    "for list_index, star_doc, star_name in zip(range(len(star_list)), star_docs, star_list):\n",
    "    simbad_name = star_doc['_id']\n",
    "    if simbad_name in unique_ids.keys():\n",
    "        unique_ids[simbad_name]['queried_names'].add(star_name)\n",
    "        unique_ids[simbad_name]['list_indexes'].append(list_index)\n",
    "    else:\n",
    "        unique_ids[simbad_name] = {'queried_names': {star_name}, 'list_indexes': [list_index]}\n",
    "    print(f'Queried name: \"{star_name}\" - SIMBAD name \"{simbad_name}\"')\n",
    "\n",
    "for simbad_name, queried_info in unique_ids.items():\n",
    "    queried_names = queried_info['queried_names']\n",
    "    list_indexes = queried_info['list_indexes']\n",
    "    if len(list_indexes) > 1:\n",
    "        print(f'\\nDuplicate name found for {simbad_name}:\\n    {sorted(queried_names)}\\n    at list indexes {list_indexes}')"
   ]
  },
  {
   "cell_type": "markdown",
   "id": "0492a1b1-858a-4441-91cc-d7a6611f82df",
   "metadata": {},
   "source": [
    "# Using Multiple Names to Look Up a Single Star\n",
    "\n",
    "The star name problem is everywhere in astronomy, such that many databases will help by providing a few name references for a given star. One of the Hypatia Catalog's favorite databases, the [NASA Exoplanet Archive](https://exoplanetarchive.ipac.caltech.edu/) (NEA), provides us with several names for many of the exoplanet host stars. For this part of the example, we will download some NEA data and run it through the `get_star_data_batch()` function to find the SIMBAD names.\n",
    "\n",
    "## Fetch and format NEA data\n",
    "\n",
    "We will use some of our Hypatia Catalog tools for this, but we'll also write/read the data to/from a text file in case you want to examine the data yourself. "
   ]
  },
  {
   "cell_type": "code",
   "execution_count": null,
   "id": "a70af626-097b-458a-bd5d-d4f2eedc7fb1",
   "metadata": {},
   "outputs": [],
   "source": [
    "nea_data = query_nea()"
   ]
  },
  {
   "cell_type": "code",
   "execution_count": null,
   "id": "f28d0a0e-12bc-4d5a-b7fb-720c92f4cf52",
   "metadata": {},
   "outputs": [],
   "source": [
    "nea_host_ids = [\n",
    "    'hostname',\n",
    "    'gaia_id',\n",
    "    'tic_id',\n",
    "    'hip_name',\n",
    "    'hd_name',\n",
    "]\n",
    "nea_hosts_file = os.path.join(os.getcwd(), 'nea_host.csv')\n",
    "planets_by_host_name = set_data_by_host(nea_data)"
   ]
  },
  {
   "cell_type": "code",
   "execution_count": null,
   "id": "03867d52-0ab7-465d-aa3f-02b271beb5d1",
   "metadata": {},
   "outputs": [],
   "source": [
    "with open(nea_hosts_file, 'w') as f:\n",
    "    f.write(f'{\",\".join(nea_host_ids)}\\n')\n",
    "    for hostname, host_and_planet_data in planets_by_host_name.items():\n",
    "        gaia_id = host_and_planet_data.get('gaia dr2', '')\n",
    "        tic_id = host_and_planet_data.get('tic', '')\n",
    "        hip_name = host_and_planet_data.get('hip', '')\n",
    "        hd_name = host_and_planet_data.get('hd', '')\n",
    "        f.write(f'{hostname},{gaia_id},{tic_id},{hip_name},{hd_name}\\n')\n",
    "        "
   ]
  },
  {
   "cell_type": "code",
   "execution_count": null,
   "id": "393b8e3a-e486-4ec9-98a7-cfdcec8d20ac",
   "metadata": {},
   "outputs": [],
   "source": [
    "nea_tuple_host_names = []\n",
    "nea_names_dicts = []\n",
    "with open(nea_hosts_file, 'r') as f:\n",
    "    header = None\n",
    "    for line in f.readlines():\n",
    "        line = line.strip()\n",
    "        if header is None:\n",
    "            header = line.split(',')\n",
    "        else:\n",
    "            names = line.split(',')\n",
    "            nea_tuple_host_names.append(tuple(name for name in names if name !=''))\n",
    "            nea_names_dicts.append({column: name for column, name in zip(header, names) if name !=''})\n",
    "print(f'20 Names formmated for get_star_data_batch():\\n    {\"\\n    \".join([str(names) for names in nea_tuple_host_names[1000:1020]])}')\n"
   ]
  },
  {
   "cell_type": "markdown",
   "id": "7bf1a842-e838-4e70-9628-5a175de927bf",
   "metadata": {},
   "source": [
    "## The `get_star_data_batch()` interactive mode\n",
    "\n",
    "When we run this cell, we will see an exception (below). This is because some NEA names for the star `gam1 Leo` point to different SIMBAD records. By default, we want `get_star_data_batch()` to raise errors when this happens, so we can stop and check that our input data is correct. \n",
    "```\n",
    "ValueError                                Traceback (most recent call last)\n",
    "Cell In[48], line 1\n",
    "----> 1 star_docs_nea = get_star_data_batch(search_ids=nea_tuple_host_names, test_origin='star names example notebook - nea')\n",
    "\n",
    "File /backend/hypatia/sources/simbad/batch.py:93, in get_star_data_batch(search_ids, test_origin, has_micro_lens_names, all_ids, override_interactive_mode)\n",
    "     91         for found_oid, found_names in oid_map.items():\n",
    "     92             error_msg += f'  Found SIMBAD database id:({found_oid}) for names: {found_names}\\n'\n",
    "---> 93     raise ValueError(error_msg)\n",
    "     94 # Update the not-found indexed for processing after the batching loop\n",
    "     95 simbad_not_found_indexes.update(indexes_this_batch - set(index_to_oid.keys()))\n",
    "\n",
    "ValueError: List indexes {196} have more than one oid from the SIMBAD API\n",
    " List index 196 has more than one oid from the SIMBAD API for names ('gam1 Leo', 'TIC 95431294', 'HIP 50583 A', 'HD 89484')\n",
    "  Found SIMBAD database id:(1710354) for names: {'gam1 Leo', 'HD 89484'}\n",
    "  Found SIMBAD database id:(1710355) for names: {'TIC 95431294'}\n",
    "```"
     ]
  },  
  {
   "cell_type": "code",
   "execution_count": null,
   "id": "010fe832-472c-4c14-b3c5-7f6a04677282",
   "metadata": {},
   "outputs": [],
   "source": [
    "star_docs_nea = get_star_data_batch(search_ids=nea_tuple_host_names, test_origin='star names example notebook - nea')"
   ]
  },
  {
   "cell_type": "markdown",
   "id": "bc2bfe93-cc8e-45eb-adb7-53b06ed22239",
   "metadata": {},
   "source": [
    "## Handling Conflicting Name Records\n",
    "Resolving the above conflict is something we have checked and solved for the Hypatia Catalog. Let's reformat the names and try again, but this time we are going to:\n",
    "1. Remove names from the `search_id` keyword argument that will cause conflicts.\n",
    "2. Keep the conflicts and put them in a new keyword argument `all_ids, which will not search SIMBAD but will be used to save a record of these names in the local database that point to the correct SIMBAD record (this is how we allow entry of custom, non-SIMBAD star names to be used as identifiers).\n",
    "3. Detect specific microlensing names. When these are not found in SIMBAD, we will automatically make a *no-SIMBAD local database record* that skips any other similar inputs.\n",
    "4. Allow input for any star names that SIMBAD does not know by opening an interactive menu prompt. "
   ]
  },
  {
   "cell_type": "code",
   "execution_count": null,
   "id": "db811d55cf7648d1",
   "metadata": {},
   "outputs": [],
   "source": [
    "all_ids = []\n",
    "search_ids = []\n",
    "has_micro_lens_names = []\n",
    "for host_name, host_data in planets_by_host_name.items():\n",
    "    # every star must have a nea_name that is not empty\n",
    "    nea_name = host_data['nea_name']\n",
    "    if not nea_name:\n",
    "        raise ValueError(\n",
    "            f'No valid name found for host, this is not supposed to happen, see host_data: {host_data}')\n",
    "    nea_ids = {host_data[param] for param in hypatia_host_name_rank_order if param in host_data.keys()}\n",
    "    all_ids.append(tuple(nea_ids))\n",
    "    names_to_try = {nea_id for nea_id in nea_ids if nea_id not in nea_names_the_cause_wrong_simbad_references}\n",
    "    mirco_name_for_simbad = needs_micro_lense_name_change(nea_name)\n",
    "    has_micro_lens_name = mirco_name_for_simbad is not None\n",
    "    if has_micro_lens_name:\n",
    "        names_to_try = set([mirco_name_for_simbad] + list(names_to_try))\n",
    "    search_ids.append(tuple(names_to_try))\n",
    "    has_micro_lens_names.append(has_micro_lens_name)\n",
    "# update or get all the name data for these stars from SIMBAD\n",
    "star_docs_nea = get_star_data_batch(search_ids=search_ids, test_origin='star names example notebook - nea',\n",
    "                                    has_micro_lens_names=has_micro_lens_names, all_ids=all_ids)"
   ]
  },
  {
   "cell_type": "markdown",
   "id": "a65118ba-7c4d-4b57-8f6f-a9026abb2fa2",
   "metadata": {},
   "source": [
    "## Disable interactive mode\n",
    "By default, we open an interactive menu to allow us to view any names not recognized by SIMBAD. Sometimes we can correct the names to something SIMBAD understands, but other times we have to accept that there is no SIMBAD record and instead rely on the name data we supply to create a local copy.\n",
    "\n",
    "To disable interactive mode and automatically accept no-SIMBAD record for any stars not found, we can use the overriding keyword argument: `override_interactive_mode`. "
   ]
  },
  {
   "cell_type": "code",
   "execution_count": null,
   "id": "3059cb1d-76c6-4ada-895d-2283e657760f",
   "metadata": {},
   "outputs": [],
   "source": [
    "star_docs_nea = get_star_data_batch(search_ids=search_ids, test_origin='star names example notebook - nea',\n",
    "                                    has_micro_lens_names=has_micro_lens_names, all_ids=all_ids, override_interactive_mode=True)"
   ]
  },
  {
   "cell_type": "markdown",
   "id": "f02c6875-3af1-4459-98cf-b61069477600",
   "metadata": {},
   "source": [
    "## Static data, that is more likely to work\n",
    "There is a possibility that you may need to add more names to `nea_names_the_cause_wrong_simbad_references` and return the above code to get it to finish without exception. The the nature of live databases is that they are constantly changing.\n",
    "\n",
    "Let's upload some static example data from the NEA that was known to be working on May 18, 2025. But note there can still be changes in SIMBAD that cause this process to fail. "
   ]
  },
  {
   "cell_type": "code",
   "execution_count": null,
   "id": "51dcd152-3e7c-4c16-a6ed-2e6ab0e1ca05",
   "metadata": {},
   "outputs": [],
   "source": [
    "nea_static_hosts_file = os.path.join(os.getcwd(), 'nea_static_host.psv')\n",
    "with open(nea_static_hosts_file, 'r') as f:\n",
    "    search_ids = [tuple(line.strip().split('|')) for line in f.readlines()]\n",
    "star_docs_nea = get_star_data_batch(search_ids=search_ids, test_origin='star names example notebook - nea', override_interactive_mode=True)"
   ]
  },
  {
   "cell_type": "markdown",
   "id": "4e8ace2a-f1f9-49da-9d45-774c2979ca38",
   "metadata": {},
   "source": [
    "# Cross-Matching Names\n",
    "We now cross-match names in the two lists of star_docs used in this example."
   ]
  },
  {
   "cell_type": "code",
   "execution_count": null,
   "id": "4e446d93-6f72-44c4-afb9-e6e641c1bce8",
   "metadata": {},
   "outputs": [],
   "source": [
    "our_list_lookup = {star_doc['_id']:  star_doc for star_doc in star_docs}\n",
    "nea_match_lookup = {star_doc['_id']:  star_doc for star_doc in star_docs_nea}\n",
    "\n",
    "for simbad_id in our_list_lookup.keys():\n",
    "    original_list_info = unique_ids[simbad_id]\n",
    "    if simbad_id in nea_match_lookup.keys():\n",
    "        print(f'Found: Original data {original_list_info} in found in NEA dataset, SIMBAD ID: {simbad_id}')\n",
    "    else:\n",
    "        print(f'    Nope: Original data {original_list_info} in not found in NEA dataset')"
   ]
  },
  {
   "cell_type": "markdown",
   "id": "c2327d7d-f461-415a-9b80-379574f74595",
   "metadata": {},
   "source": [
    "\n"
   ]
  },
  {
   "cell_type": "markdown",
   "id": "73c38607-7d73-46fc-8ed5-f4adbcfc3aa9",
   "metadata": {},
   "source": [
    "# Database Reset\n",
    "Adding items to the database changes the behavior of `get_star_data_batch()`, to start over and reset the starname database, uncomment and run the command below."
   ]
  },
  {
   "cell_type": "code",
   "execution_count": null,
   "id": "cb3fd40e-7dbd-4cd1-8bbe-b614a7c4d7ae",
   "metadata": {},
   "outputs": [],
   "source": [
    "# star_collection.reset()"
   ]
  }
 ],
 "metadata": {
  "kernelspec": {
   "display_name": "Python 3 (ipykernel)",
   "language": "python",
   "name": "python3"
  },
  "language_info": {
   "codemirror_mode": {
    "name": "ipython",
    "version": 3
   },
   "file_extension": ".py",
   "mimetype": "text/x-python",
   "name": "python",
   "nbconvert_exporter": "python",
   "pygments_lexer": "ipython3",
   "version": "3.12.10"
  }
 },
 "nbformat": 4,
 "nbformat_minor": 5
}
